{
 "cells": [
  {
   "cell_type": "markdown",
   "id": "a1b52e82",
   "metadata": {},
   "source": [
    "### Exercício 14\n",
    "Faça um programa que peça 10 números inteiros, calcule e mostre a quantidade de números pares e a quantidade de números ímpares."
   ]
  },
  {
   "cell_type": "code",
   "execution_count": 6,
   "id": "288b6341",
   "metadata": {},
   "outputs": [
    {
     "name": "stdout",
     "output_type": "stream",
     "text": [
      "Digite o número: 12\n",
      "Digite o número: 13\n",
      "Digite o número: 15\n",
      "Digite o número: 16\n",
      "Digite o número: 14\n",
      "Digite o número: 18\n",
      "Digite o número: 20\n",
      "Digite o número: 22\n",
      "Digite o número: 23\n",
      "Digite o número: 25\n",
      "Na lista [12, 13, 15, 16, 14, 18, 20, 22, 23, 25],\n",
      "foram localizados 6 números pares e,\n",
      "4 números ímpares.\n"
     ]
    }
   ],
   "source": [
    "numeros = []\n",
    "\n",
    "#--------------------------------- Solicitar os números ao usuário\n",
    "i = 1\n",
    "\n",
    "while i <= 10:\n",
    "    \n",
    "    num = int(input('Digite o número: '))\n",
    "    numeros.append(num)\n",
    "    \n",
    "    i = i + 1\n",
    "#---------------------------------- Calcular a quantidade \n",
    "#---------------------------------- de números pares e ímpares\n",
    "par = 0\n",
    "impar = 0\n",
    "\n",
    "for x in numeros:\n",
    "    if x%2 == 0:\n",
    "        par = par + 1\n",
    "    else:\n",
    "        impar = impar + 1\n",
    "\n",
    "print(f'Na lista {numeros},')\n",
    "print(f'foram localizados {par} números pares e,')\n",
    "print(f'{impar} números ímpares.')"
   ]
  },
  {
   "cell_type": "markdown",
   "id": "733d501c",
   "metadata": {},
   "source": [
    "### Exercício 15\n",
    "A série de Fibonacci é formada pela sequência 1,1,2,3,5,8,13,21,34,55,... Faça um programa capaz de gerar a série até o enésimo termo."
   ]
  },
  {
   "cell_type": "code",
   "execution_count": 16,
   "id": "485f6112",
   "metadata": {},
   "outputs": [
    {
     "name": "stdout",
     "output_type": "stream",
     "text": [
      "Digite a quantidade de termos a serem gerados.60\n",
      "[1, 1, 2, 3, 5, 8, 13, 21, 34, 55, 89, 144, 233, 377, 610, 987, 1597, 2584, 4181, 6765, 10946, 17711, 28657, 46368, 75025, 121393, 196418, 317811, 514229, 832040, 1346269, 2178309, 3524578, 5702887, 9227465, 14930352, 24157817, 39088169, 63245986, 102334155, 165580141, 267914296, 433494437, 701408733, 1134903170, 1836311903, 2971215073, 4807526976, 7778742049, 12586269025, 20365011074, 32951280099, 53316291173, 86267571272, 139583862445, 225851433717, 365435296162, 591286729879, 956722026041, 1548008755920, 2504730781961, 4052739537881]\n"
     ]
    }
   ],
   "source": [
    "qtde_num = int(input('Digite a quantidade de termos a serem gerados.'))\n",
    "\n",
    "serieF = [1] #A séria Fibonacci sempre inicia com 1\n",
    "\n",
    "i = 0\n",
    "\n",
    "while i <= qtde_num: # Repetir o bloco até o valor de i ser igual a qtde_num\n",
    "    \n",
    "    if serieF[0] == 1 and i == 0:\n",
    "        \n",
    "        serieF.append(1)\n",
    "       \n",
    "    else:\n",
    "        \n",
    "        a = serieF[i] + serieF[i-1]\n",
    "        serieF.append(a)\n",
    "        \n",
    "    i = i + 1\n",
    "\n",
    "print(serieF)"
   ]
  },
  {
   "cell_type": "markdown",
   "id": "3cf3da81",
   "metadata": {},
   "source": [
    "### Exercício 16\n",
    "A série de Fibonacci é formada pela sequência 0,1,1,2,3,5,8,13,21,34,55,... Faça um programa que gere a série até que o valor seja maior que 500."
   ]
  },
  {
   "cell_type": "code",
   "execution_count": 18,
   "id": "dcb84a20",
   "metadata": {},
   "outputs": [
    {
     "name": "stdout",
     "output_type": "stream",
     "text": [
      "[1, 1, 2, 3, 5, 8, 13, 21, 34, 55, 89, 144, 233, 377]\n"
     ]
    }
   ],
   "source": [
    "serieF = [1,1] #A séria Fibonacci sempre inicia com 1\n",
    "\n",
    "while serieF[-1] <= 500: #Verifica se o último elemento é menor do que 500\n",
    "    \n",
    "    a = serieF[-1] + serieF[-2] # Somando o último elemento + o penúltimo elemento\n",
    "    \n",
    "    if a > 500:\n",
    "        break #Sair do laço de repetição\n",
    "    \n",
    "    serieF.append(a)\n",
    "\n",
    "\n",
    "print(serieF)"
   ]
  },
  {
   "cell_type": "code",
   "execution_count": null,
   "id": "5d34291d",
   "metadata": {},
   "outputs": [],
   "source": [
    "serieF = [1,1] #A séria Fibonacci sempre inicia com 1\n",
    "\n",
    "while True:\n",
    "    \n",
    "    a = serieF[-1] + serieF[-2]\n",
    "    \n",
    "    if a > 500:\n",
    "        break\n",
    "    \n",
    "    serieF.append(a)\n",
    "\n",
    "\n",
    "print(serieF)"
   ]
  },
  {
   "cell_type": "markdown",
   "id": "eb76e9c8",
   "metadata": {},
   "source": [
    "### Exercício 24\n",
    "Faça um programa que calcule o mostre a média aritmética de N notas."
   ]
  },
  {
   "cell_type": "code",
   "execution_count": 30,
   "id": "20968312",
   "metadata": {},
   "outputs": [
    {
     "name": "stdout",
     "output_type": "stream",
     "text": [
      "Digite a nota. (Para sair digite S)2\n",
      "Digite a nota. (Para sair digite S)5\n",
      "Digite a nota. (Para sair digite S)s\n",
      "A média dos valores é: 3.5\n"
     ]
    }
   ],
   "source": [
    "notas = []\n",
    "#-------------------------------------- Solicitação de valores/ Add na lista\n",
    "entrada = input('Digite a nota. (Para sair digite S)')\n",
    "\n",
    "while entrada.lower() != 's': # Enquanto não for S, faça\n",
    "    \n",
    "    notas.append(float(entrada))\n",
    "    entrada = input('Digite a nota. (Para sair digite S)')\n",
    "\n",
    "#-------------------------------------- Média\n",
    "soma = 0\n",
    "for n in notas:\n",
    "    soma = n + soma #Somar os elementos\n",
    "\n",
    "elementos = len(notas) #tamanho da lista\n",
    "media = round(soma / elementos,1)\n",
    "\n",
    "print(f'A média dos valores é: {media}')"
   ]
  },
  {
   "cell_type": "code",
   "execution_count": null,
   "id": "0b71a207",
   "metadata": {},
   "outputs": [],
   "source": []
  }
 ],
 "metadata": {
  "kernelspec": {
   "display_name": "Python 3 (ipykernel)",
   "language": "python",
   "name": "python3"
  },
  "language_info": {
   "codemirror_mode": {
    "name": "ipython",
    "version": 3
   },
   "file_extension": ".py",
   "mimetype": "text/x-python",
   "name": "python",
   "nbconvert_exporter": "python",
   "pygments_lexer": "ipython3",
   "version": "3.10.9"
  }
 },
 "nbformat": 4,
 "nbformat_minor": 5
}
