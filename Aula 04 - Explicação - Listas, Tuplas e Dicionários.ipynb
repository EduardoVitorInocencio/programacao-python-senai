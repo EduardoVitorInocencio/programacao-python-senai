{
 "cells": [
  {
   "cell_type": "markdown",
   "id": "006bb1cd",
   "metadata": {},
   "source": [
    "# Listas (list)\n",
    "\n",
    "Tipo de dado muito importante e que é muito utilizado no dia a dia do desenvolvedor Python! Listas agrupam um conjunto de elementos variados, podendo conter: inteiros, floats, strings , outras listas e outros.\n",
    "Elas são definidas utilizando-se colchetes para delimitar a lista e vírgulas para separar os elementos, veja alguns exemplo abaixo:"
   ]
  },
  {
   "cell_type": "code",
   "execution_count": null,
   "id": "088acc0d",
   "metadata": {},
   "outputs": [],
   "source": [
    "alunos = ['Amanda','Ana','Bruno','João']\n",
    "notas = [10, 8.5, 7.8, 8.0]\n",
    "\n",
    "print(type(alunos))\n",
    "print(type(notas))"
   ]
  },
  {
   "cell_type": "markdown",
   "id": "eb9869b3",
   "metadata": {},
   "source": [
    "### Listas (list) - Acessando itens\n",
    "Os elementos de uma lista podem ser acessados através dos índices:"
   ]
  },
  {
   "cell_type": "code",
   "execution_count": null,
   "id": "4e3fdce1",
   "metadata": {},
   "outputs": [],
   "source": [
    "alunos[0]"
   ]
  },
  {
   "cell_type": "code",
   "execution_count": null,
   "id": "7c30d90a",
   "metadata": {},
   "outputs": [],
   "source": [
    "notas[0]"
   ]
  },
  {
   "cell_type": "markdown",
   "id": "f80fecc8",
   "metadata": {},
   "source": [
    "É possível, inclusive, criar uma lista de listas!"
   ]
  },
  {
   "cell_type": "code",
   "execution_count": null,
   "id": "40e10bf7",
   "metadata": {},
   "outputs": [],
   "source": [
    "lista_geral = [alunos, notas]"
   ]
  },
  {
   "cell_type": "markdown",
   "id": "5b4b0c80",
   "metadata": {},
   "source": [
    "### Exemplo"
   ]
  },
  {
   "cell_type": "code",
   "execution_count": null,
   "id": "8a65d767",
   "metadata": {},
   "outputs": [],
   "source": [
    "x = [0, 1, 2, 3, 4, 5, 6, 7, 8, 9]\n",
    "\n",
    "zero = x[0] # igual a 0, as listas são indexadas a partir de 0\n",
    "one = x[1]\n",
    "nine = x[-1]\n",
    "eight = x[-2]"
   ]
  },
  {
   "cell_type": "markdown",
   "id": "9a29fd0c",
   "metadata": {},
   "source": [
    "### Adicionando itens"
   ]
  },
  {
   "cell_type": "code",
   "execution_count": null,
   "id": "52369efb",
   "metadata": {},
   "outputs": [],
   "source": [
    "x.append(10)"
   ]
  },
  {
   "cell_type": "markdown",
   "id": "a8db3d1e",
   "metadata": {},
   "source": [
    "# Tuplas (tuple)\n",
    "\n",
    "Assim como Lista, Tupla é um tipo que agrupa um conjunto de elementos. Porém sua forma de definição é diferente: utilizamos parênteses e também separado por vírgula.\n",
    "A diferença para Lista é que Tuplas são imutáveis, ou seja, após sua definição, Tuplas não podem ser modificadas.\n"
   ]
  },
  {
   "cell_type": "code",
   "execution_count": null,
   "id": "2df911d7",
   "metadata": {},
   "outputs": [],
   "source": [
    "valores = (90, 79, 54, 32, 21)\n",
    "pontos = (100, 94.05, 86.8, 62)\n",
    "\n",
    "print(type(valores))\n",
    "print(type(pontos))"
   ]
  },
  {
   "cell_type": "markdown",
   "id": "048f31c9",
   "metadata": {},
   "source": [
    "### Tuplas - outros exemplos"
   ]
  },
  {
   "cell_type": "code",
   "execution_count": null,
   "id": "0d238bab",
   "metadata": {},
   "outputs": [],
   "source": [
    "my_list = [1,2]\n",
    "my_tuple = (1, 2)\n",
    "other_tuple = (3, 4)\n",
    "\n",
    "my_list [1] = 3"
   ]
  },
  {
   "cell_type": "code",
   "execution_count": null,
   "id": "f46ea2c0",
   "metadata": {},
   "outputs": [],
   "source": [
    "try:\n",
    "    my_tuple[1] = 3\n",
    "except TypeError:\n",
    "    print('Você não pode modificar uma tupla!')"
   ]
  },
  {
   "cell_type": "markdown",
   "id": "a96d3b7a",
   "metadata": {},
   "source": [
    "As tuplas são uma forma eficaz de usar funções para retornar múltiplos valores:"
   ]
  },
  {
   "cell_type": "code",
   "execution_count": 5,
   "id": "44363db0",
   "metadata": {},
   "outputs": [
    {
     "name": "stdout",
     "output_type": "stream",
     "text": [
      "15\n"
     ]
    }
   ],
   "source": [
    "def sum_and_product (x, y):\n",
    "    return (x + y), (x * y)\n",
    "\n",
    "sp = sum_and_product (5,6) #sp é 5 6\n",
    "\n",
    "print(s)"
   ]
  },
  {
   "cell_type": "code",
   "execution_count": null,
   "id": "672993c3",
   "metadata": {},
   "outputs": [],
   "source": [
    "s, p = sum_and_product (5, 10)#s é 15 p é 50"
   ]
  },
  {
   "cell_type": "markdown",
   "id": "efca01cf",
   "metadata": {},
   "source": [
    "# Dicionários (dict)\n",
    "\n",
    "Dict é um tipo de dado muito flexível do Python. Eles são utilizados para agrupar elementos através da estrutura de chave e valor onde a chave é o primeiro elemento seguido por dois pontos e pelo valor.\n",
    "Vamos ver alguns exemplos"
   ]
  },
  {
   "cell_type": "code",
   "execution_count": 7,
   "id": "196255e2",
   "metadata": {},
   "outputs": [
    {
     "name": "stdout",
     "output_type": "stream",
     "text": [
      "<class 'dict'>\n",
      "<class 'dict'>\n"
     ]
    }
   ],
   "source": [
    "altura = {'Amanda': 1.65, 'Ana': 1.60, 'João': 1.70}\n",
    "peso = {'Amanda': 1.65, 'Ana': 1.60, 'João': 1.70}\n",
    "\n",
    "print(type(altura))\n",
    "print(type(peso))"
   ]
  },
  {
   "cell_type": "markdown",
   "id": "a9a77d92",
   "metadata": {},
   "source": [
    "### Outros exemplos"
   ]
  },
  {
   "cell_type": "code",
   "execution_count": 8,
   "id": "798f31a3",
   "metadata": {},
   "outputs": [],
   "source": [
    "cadastro = {\n",
    "    \n",
    "    'nome':'Tânia',\n",
    "    'idade': 35,\n",
    "    'fruta': 'Uva',\n",
    "    'cor' : 'Roxa',\n",
    "    'musica' : 'Forró'\n",
    "}"
   ]
  },
  {
   "cell_type": "markdown",
   "id": "d3689e36",
   "metadata": {},
   "source": [
    "Podemos criar um dicionário a partir de uma lista de tuplas usando a função dict ()."
   ]
  },
  {
   "cell_type": "code",
   "execution_count": null,
   "id": "a42e7816",
   "metadata": {},
   "outputs": [],
   "source": [
    "tupla1 = ('nome','Tânia')\n",
    "tupla2 = ('idade', 35)\n",
    "tupla3 = ('fruta', 'uva')\n",
    "tupla4 = ('cor', 'roxa')\n",
    "tupla5 = ('musica','funk')\n",
    "\n",
    "lista_tuplas = [tupla1, tupla2, tupla3, tupla4, tupla5]\n",
    "\n",
    "cadastro_2 = dict(lista_tuplas)"
   ]
  },
  {
   "cell_type": "markdown",
   "id": "6975a27e",
   "metadata": {},
   "source": [
    "### Editando informações\n",
    "\n",
    "Podemos editar ou adicionar um valor em um dicionário:"
   ]
  },
  {
   "cell_type": "code",
   "execution_count": 10,
   "id": "e321a287",
   "metadata": {},
   "outputs": [],
   "source": [
    "cadastro ['fruta'] = 'laranja'\n"
   ]
  },
  {
   "cell_type": "markdown",
   "id": "04259a5c",
   "metadata": {},
   "source": [
    "inserindo uma nova chave-valor:"
   ]
  },
  {
   "cell_type": "code",
   "execution_count": 12,
   "id": "ad9e24af",
   "metadata": {},
   "outputs": [
    {
     "data": {
      "text/plain": [
       "{'nome': 'Tânia',\n",
       " 'idade': 35,\n",
       " 'fruta': 'laranja',\n",
       " 'cor': 'Roxa',\n",
       " 'musica': 'Forró',\n",
       " 'sobrenome': 'Gomes'}"
      ]
     },
     "execution_count": 12,
     "metadata": {},
     "output_type": "execute_result"
    }
   ],
   "source": [
    "cadastro ['sobrenome'] = 'Gomes'\n",
    "cadastro"
   ]
  },
  {
   "cell_type": "markdown",
   "id": "2c9c1744",
   "metadata": {},
   "source": [
    "Podemos editar ou adicionar um valor em um dicionário:"
   ]
  },
  {
   "cell_type": "code",
   "execution_count": 13,
   "id": "168dd1ea",
   "metadata": {},
   "outputs": [],
   "source": [
    "del cadastro['musica']"
   ]
  },
  {
   "cell_type": "markdown",
   "id": "db5dcd5c",
   "metadata": {},
   "source": [
    "Podemos atualizar mais de um valor usando a função update():"
   ]
  },
  {
   "cell_type": "code",
   "execution_count": 17,
   "id": "afe36298",
   "metadata": {},
   "outputs": [],
   "source": [
    "cadastro.update({'nome':'Ana', 'idade':27, 'fruta':'abacaxi'})"
   ]
  }
 ],
 "metadata": {
  "kernelspec": {
   "display_name": "Python 3 (ipykernel)",
   "language": "python",
   "name": "python3"
  },
  "language_info": {
   "codemirror_mode": {
    "name": "ipython",
    "version": 3
   },
   "file_extension": ".py",
   "mimetype": "text/x-python",
   "name": "python",
   "nbconvert_exporter": "python",
   "pygments_lexer": "ipython3",
   "version": "3.10.9"
  }
 },
 "nbformat": 4,
 "nbformat_minor": 5
}
