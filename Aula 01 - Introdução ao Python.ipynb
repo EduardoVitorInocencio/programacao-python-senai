{
 "cells": [
  {
   "cell_type": "markdown",
   "id": "0a9734a8",
   "metadata": {},
   "source": [
    "### Exercício 01\n",
    "Crie um programa para receber dois valores e em seguida, exiba o valor\n",
    "da soma."
   ]
  },
  {
   "cell_type": "code",
   "execution_count": null,
   "id": "50f670d5",
   "metadata": {},
   "outputs": [],
   "source": [
    "valor1 = 10\n",
    "valor2 = 30\n",
    "soma = valor1 + valor2\n",
    "print(soma)"
   ]
  },
  {
   "cell_type": "markdown",
   "id": "f2568c11",
   "metadata": {},
   "source": [
    "### Exercício 02 \n",
    "Crie um programa para receber dois valores e em seguida, exiba o valor\n",
    "da diferença entre eles."
   ]
  },
  {
   "cell_type": "code",
   "execution_count": null,
   "id": "d4994568",
   "metadata": {},
   "outputs": [],
   "source": [
    "valor1 = 10\n",
    "valor2 = 5\n",
    "\n",
    "diferenca = valor1 - valor2\n",
    "print(diferenca)"
   ]
  },
  {
   "cell_type": "markdown",
   "id": "afc27520",
   "metadata": {},
   "source": [
    "### Exercício 03\n",
    "Crie um programa para receber dois valores e em seguida, exiba o\n",
    "produto entre eles."
   ]
  },
  {
   "cell_type": "code",
   "execution_count": null,
   "id": "02e62692",
   "metadata": {},
   "outputs": [],
   "source": [
    "valor1 = 2\n",
    "valor2 = 3\n",
    "\n",
    "produto = valor1 * valor2\n",
    "print('O resultado da multiplicação é: ', produto)"
   ]
  },
  {
   "cell_type": "markdown",
   "id": "524a7d7a",
   "metadata": {},
   "source": [
    "### Exercício 04\n",
    "Crie um programa para receber dois valores e em seguida, exiba o\n",
    "quociente entre eles."
   ]
  },
  {
   "cell_type": "code",
   "execution_count": null,
   "id": "ad35253d",
   "metadata": {},
   "outputs": [],
   "source": [
    "num1 = 10\n",
    "num2 = 5\n",
    "\n",
    "# Cálculo de divisão\n",
    "quociente = num1 / num2\n",
    "\n",
    "# Cálculo do resto da divisão\n",
    "\n",
    "resto = num1 % num2\n",
    "\n",
    "print('O resultado da divisão é:' , quociente)\n",
    "\n",
    "print('O resto da divisão é:', resto)\n"
   ]
  },
  {
   "cell_type": "markdown",
   "id": "06c91132",
   "metadata": {},
   "source": [
    "### Exercício 05\n",
    "Crie um programa para receber dois valores e em seguida, exiba o resto \n",
    "da divisão entre eles.\n"
   ]
  },
  {
   "cell_type": "code",
   "execution_count": null,
   "id": "09dd326e",
   "metadata": {},
   "outputs": [],
   "source": [
    "num1 = 10\n",
    "num2 = 3\n",
    "resto = num1 % num2\n",
    "print(resto)"
   ]
  },
  {
   "cell_type": "markdown",
   "id": "f7a27b0b",
   "metadata": {},
   "source": [
    "### Exercício 06\n",
    "Crie um programa para receber um número e em seguida, exiba o \n",
    "quadrado dele.\n"
   ]
  },
  {
   "cell_type": "code",
   "execution_count": 2,
   "id": "4c91b237",
   "metadata": {},
   "outputs": [
    {
     "name": "stdout",
     "output_type": "stream",
     "text": [
      "25\n"
     ]
    }
   ],
   "source": [
    "num = 5\n",
    "quadrado = num ** 2\n",
    "print(quadrado)"
   ]
  },
  {
   "cell_type": "markdown",
   "id": "7c4562ff",
   "metadata": {},
   "source": [
    "### Exercício 07\n",
    "Elabora um programa para calcular a raiz quadrada de um número, \n",
    "utilizando a biblioteca math."
   ]
  },
  {
   "cell_type": "code",
   "execution_count": 3,
   "id": "ffde468e",
   "metadata": {},
   "outputs": [
    {
     "name": "stdout",
     "output_type": "stream",
     "text": [
      "5.0\n"
     ]
    }
   ],
   "source": [
    "import math\n",
    "num = 25\n",
    "raiz_quadrada = math.sqrt(num)\n",
    "print(raiz_quadrada)"
   ]
  },
  {
   "cell_type": "markdown",
   "id": "c1efc249",
   "metadata": {},
   "source": [
    "### Exercício 08\n",
    "Crie um programa que seja capaz de calcular o valor absoluto de um \n",
    "número.\n"
   ]
  },
  {
   "cell_type": "code",
   "execution_count": 4,
   "id": "b4b7666a",
   "metadata": {},
   "outputs": [
    {
     "name": "stdout",
     "output_type": "stream",
     "text": [
      "5\n"
     ]
    }
   ],
   "source": [
    "num = -5\n",
    "absoluto = abs(num)\n",
    "print(absoluto)"
   ]
  },
  {
   "cell_type": "markdown",
   "id": "4d7dd435",
   "metadata": {},
   "source": [
    "### Exercício 09\n",
    "Atribua os seguintes valores às variáveis, um a um:\n",
    "\n",
    "a. 347\n",
    "\n",
    "b. 2.71\n",
    "\n",
    "c. “347”\n",
    "\n",
    "d. 2+3j\n",
    "\n",
    "Responda as questões a seguir:\n",
    "\n",
    "1) Quais são os tipos das variáveis acima?\n",
    "\n",
    "2) Faça uma atribuição múltipla das variáveis do exercício 2"
   ]
  },
  {
   "cell_type": "code",
   "execution_count": 5,
   "id": "de29e816",
   "metadata": {},
   "outputs": [
    {
     "name": "stdout",
     "output_type": "stream",
     "text": [
      "------------------------------------------------------\n",
      "A variável a contém o valor de 347 é do tipo <class 'int'>\n",
      "------------------------------------------------------\n",
      "A variável a contém o valor de 2.71 é do tipo <class 'float'>\n",
      "------------------------------------------------------\n",
      "A variável a contém o valor de 347 é do tipo <class 'str'>\n",
      "------------------------------------------------------\n",
      "A variável a contém o valor de (2+3j) é do tipo <class 'complex'>\n"
     ]
    }
   ],
   "source": [
    "#1\n",
    "a = 347\n",
    "b = 2.71\n",
    "c = \"347\"\n",
    "d = 2 + 3j\n",
    "\n",
    "print('------------------------------------------------------')\n",
    "print(f'A variável a contém o valor de {a} é do tipo', type(a))\n",
    "print('------------------------------------------------------')\n",
    "print(f'A variável a contém o valor de {b} é do tipo', type(b))\n",
    "print('------------------------------------------------------')\n",
    "print(f'A variável a contém o valor de {c} é do tipo', type(c))\n",
    "print('------------------------------------------------------')\n",
    "print(f'A variável a contém o valor de {d} é do tipo', type(d))"
   ]
  },
  {
   "cell_type": "code",
   "execution_count": 7,
   "id": "b9d88802",
   "metadata": {},
   "outputs": [
    {
     "data": {
      "text/plain": [
       "'A'"
      ]
     },
     "execution_count": 7,
     "metadata": {},
     "output_type": "execute_result"
    }
   ],
   "source": [
    "#2\n",
    "\n",
    "e, f, g, h = \"A\", \"B\",3.14, 0.5\n",
    "\n"
   ]
  },
  {
   "cell_type": "markdown",
   "id": "57daf5dd",
   "metadata": {},
   "source": [
    "### Exercício 10\n",
    "Converter Metros para Centímetros"
   ]
  },
  {
   "cell_type": "code",
   "execution_count": null,
   "id": "3ea8b367",
   "metadata": {},
   "outputs": [],
   "source": [
    "#Solicitar ao usuário um valor em metros\n",
    "\n",
    "metros = input('Digite um valor em metros para converter em cm. ')\n",
    "\n",
    "metros = int(metros)\n",
    "type(metros)\n",
    "\n",
    "centimetros = metros * 100\n",
    "\n",
    "print(centimetros)"
   ]
  },
  {
   "cell_type": "markdown",
   "id": "d158ec65",
   "metadata": {},
   "source": [
    "### Exercício 11\n",
    "Faça um Programa que peça o raio de um círculo, calcule e mostre sua área."
   ]
  },
  {
   "cell_type": "code",
   "execution_count": null,
   "id": "6a9102a5",
   "metadata": {},
   "outputs": [],
   "source": [
    "import math\n",
    "\n",
    "raio = input('Informe o raio do círculo ')\n",
    "raio = float(raio) # Número decimal\n",
    "\n",
    "pi = math.pi\n",
    "\n",
    "area = round(pi * raio ** 2, 3)\n",
    "\n",
    "print('A área do círculo é: ', area)"
   ]
  },
  {
   "cell_type": "markdown",
   "id": "b15f9a9e",
   "metadata": {},
   "source": [
    "### Exercício 12\n",
    "Faça um Programa que calcule a área de um quadrado, em seguida\n",
    "mostre o dobro desta área para o usuário."
   ]
  },
  {
   "cell_type": "code",
   "execution_count": 1,
   "id": "e13ba032",
   "metadata": {},
   "outputs": [
    {
     "name": "stdout",
     "output_type": "stream",
     "text": [
      "Digite o valor referente ao lado do quadrado10\n",
      "O lado do quadrado é:  10.0 mm\n",
      "A área do quadrado é:  100.0 mm²\n",
      "O dobro da áre é:  200.0 mm²\n"
     ]
    }
   ],
   "source": [
    "lado = input('Digite o valor referente ao lado do quadrado')\n",
    "lado = float(lado) #Converter para número decimal\n",
    "\n",
    "areaQuadrado = lado ** 2\n",
    "dobroArea = areaQuadrado * 2\n",
    "\n",
    "print('O lado do quadrado é: ', lado, 'mm')\n",
    "print('A área do quadrado é: ', areaQuadrado, 'mm²')\n",
    "print('O dobro da áre é: ', dobroArea, 'mm²')"
   ]
  },
  {
   "cell_type": "markdown",
   "id": "c6a664c9",
   "metadata": {},
   "source": [
    "### Exercício 13\n",
    "Faça um Programa que pergunte quanto você ganha por hora e o número\n",
    "de horas trabalhadas no mês. Calcule e mostre o total do seu salário no referido mês."
   ]
  },
  {
   "cell_type": "code",
   "execution_count": null,
   "id": "798062e3",
   "metadata": {},
   "outputs": [],
   "source": [
    "valorHora = input('Digite o valor por hora: ')\n",
    "valorHora = float(valorHora)\n",
    "\n",
    "horasTrab = input('Quantas horas você trabalhou? ')\n",
    "horasTrab = float(horasTrab)\n",
    "\n",
    "salario = valorHora * horasTrab\n",
    "\n",
    "print('Recebendo um valor por hora de R$', valorHora)\n",
    "print('Trabalhando', horasTrab, 'horas no mês')\n",
    "print('O seu salário é de R$', salario)"
   ]
  },
  {
   "cell_type": "markdown",
   "id": "91262444",
   "metadata": {},
   "source": [
    "### Exercício 14\n",
    "Faça um Programa que peça a temperatura em graus Fahrenheit,\n",
    "transforme e mostre a temperatura em graus Celsius."
   ]
  },
  {
   "cell_type": "code",
   "execution_count": 3,
   "id": "2db993cd",
   "metadata": {},
   "outputs": [
    {
     "name": "stdout",
     "output_type": "stream",
     "text": [
      "Digite a temperatura em Fahrenheit: 50\n",
      "O valor em graus Fahrenheit de 50.0  equivale a 10.0 graus celsius\n"
     ]
    }
   ],
   "source": [
    "tempF = input('Digite a temperatura em Fahrenheit: ')\n",
    "tempF = float(tempF)\n",
    "\n",
    "tempC = (tempF - 32) / 1.8\n",
    "print('O valor em graus Fahrenheit de', tempF,' equivale a', tempC,'graus celsius')\n"
   ]
  },
  {
   "cell_type": "markdown",
   "id": "27315802",
   "metadata": {},
   "source": [
    "### Exercício 15\n",
    "Faça um Programa que peça a temperatura em graus Celsius, transforme\n",
    "e mostre em graus Fahrenheit."
   ]
  },
  {
   "cell_type": "code",
   "execution_count": null,
   "id": "884e3377",
   "metadata": {},
   "outputs": [],
   "source": [
    "tempC = input('Digite a temperatura em Celsius: ')\n",
    "tempC = float(tempC)\n",
    "\n",
    "tempF = tempC * 1.8 + 32\n",
    "print('O valor de ', tempC, 'na escala Celsius, equivale a ', tempF, 'na escala Fahrenheit.')\n"
   ]
  },
  {
   "cell_type": "markdown",
   "id": "a6a25ef0",
   "metadata": {},
   "source": [
    "### Exercício 16\n",
    "Faça um Programa que peça 2 números inteiros e um número real.\n",
    "Calcule e mostre:\n",
    "\n",
    "a) o produto do dobro do primeiro com metade do segundo.\n",
    "\n",
    "b) a soma do triplo do primeiro com o terceiro.\n",
    "\n",
    "c) o terceiro elevado ao cubo."
   ]
  },
  {
   "cell_type": "code",
   "execution_count": 11,
   "id": "9576c411",
   "metadata": {},
   "outputs": [
    {
     "name": "stdout",
     "output_type": "stream",
     "text": [
      "Digite um número inteiro: 2\n",
      "Digite um número decimal: 3\n",
      "Digite um número inteiro: 4\n",
      "Questão A:  2.0\n",
      "Questão B:  3.0\n",
      "Questão C:  4.0\n"
     ]
    }
   ],
   "source": [
    "num1 = input('Digite um número inteiro: ')\n",
    "num2 = input('Digite um número decimal: ')\n",
    "num3 = input('Digite um número inteiro: ')\n",
    "\n",
    "num1 = float(int(num1))\n",
    "num2 = float(int(num2))\n",
    "num3 = float(int(num3))\n",
    "\n",
    "produto = num1 * 2 + num2/2\n",
    "soma = 3 * num1 + num3\n",
    "elevado = num3 ** 3\n",
    "\n",
    "print('Questão A: ', num1)\n",
    "print('Questão B: ', num2)\n",
    "print('Questão C: ', num3)"
   ]
  }
 ],
 "metadata": {
  "kernelspec": {
   "display_name": "Python 3 (ipykernel)",
   "language": "python",
   "name": "python3"
  },
  "language_info": {
   "codemirror_mode": {
    "name": "ipython",
    "version": 3
   },
   "file_extension": ".py",
   "mimetype": "text/x-python",
   "name": "python",
   "nbconvert_exporter": "python",
   "pygments_lexer": "ipython3",
   "version": "3.9.13"
  }
 },
 "nbformat": 4,
 "nbformat_minor": 5
}
