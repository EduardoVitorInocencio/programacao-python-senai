{
 "cells": [
  {
   "cell_type": "markdown",
   "id": "a7e4aec0",
   "metadata": {},
   "source": [
    "### Código 01\n",
    "Escreva um programa que solicite ao usuário um número inteiro e verifique se ele é um número positivo. Em seguida, exiba a mensagem correspondente.\n",
    "\n",
    "Digite o código na caixa abaixo"
   ]
  },
  {
   "cell_type": "code",
   "execution_count": null,
   "id": "1f684da2",
   "metadata": {},
   "outputs": [],
   "source": [
    "num = int(input('Digite um número: '))\n",
    "\n",
    "if num < 0:\n",
    "    print('Negativo')\n",
    "elif num >0:\n",
    "    print('Positivo')\n",
    "else:\n",
    "    print('Nulo')"
   ]
  },
  {
   "cell_type": "markdown",
   "id": "cc50c26c",
   "metadata": {},
   "source": [
    "### Código 03\n",
    "Escreva um programa que solicite ao usuário a idade de uma pessoa e verifique se ela é maior de idade (idade igual ou superior a 18) e se possui carteira de motorista. Em seguida, exiba a mensagem correspondente.\n",
    "\n",
    "Digite o código abaixo"
   ]
  },
  {
   "cell_type": "code",
   "execution_count": null,
   "id": "958c689e",
   "metadata": {},
   "outputs": [],
   "source": [
    "idade = int(input('Digite o sua idade: '))\n",
    "\n",
    "if idade < 18:\n",
    "    print('Você é maior de idade!')\n",
    "else:\n",
    "    print('Você é menor de idade!')"
   ]
  },
  {
   "cell_type": "markdown",
   "id": "eb3602b7",
   "metadata": {},
   "source": [
    "### Código 04\n",
    "Escreva um programa que solicite ao usuário um número inteiro e verifique se ele é um número perfeito. Um número perfeito é aquele cuja soma dos seus divisores (excluindo ele mesmo) é igual ao próprio número. Por exemplo, 6 é um número perfeito, pois seus divisores são 1, 2 e 3, e 1 + 2 + 3 = 6.\n",
    "\n",
    "Digite o código abaixo"
   ]
  },
  {
   "cell_type": "code",
   "execution_count": 3,
   "id": "7cb1754b",
   "metadata": {},
   "outputs": [
    {
     "name": "stdout",
     "output_type": "stream",
     "text": [
      "Digite um número inteiro: 5\n",
      "Este número não perfeito!\n"
     ]
    }
   ],
   "source": [
    "num = int(input('Digite um número inteiro: '))\n",
    "\n",
    "divisor = 1\n",
    "soma_divisor = 0\n",
    "\n",
    "if soma_divisor <= num:\n",
    "    soma_divisor += 1\n",
    "    \n",
    "if soma_divisor <= num:\n",
    "    soma_divisor += 2\n",
    "\n",
    "if soma_divisor <= num:\n",
    "    soma_divisor += 3\n",
    "\n",
    "if soma_divisor != num:\n",
    "    print('Este número não perfeito!')\n",
    "else:\n",
    "    print('Este é um número perfeito!')\n"
   ]
  },
  {
   "cell_type": "markdown",
   "id": "a2bb72fe",
   "metadata": {},
   "source": [
    "### Código 05\n",
    "Escreva um programa que solicite ao usuário um número inteiro e verifique se ele é um número primo. Em seguida, exiba a mensagem correspondente. (Reutilize a questão anterior ou elabore um código diferente)."
   ]
  },
  {
   "cell_type": "code",
   "execution_count": 15,
   "id": "cc8dd6da",
   "metadata": {},
   "outputs": [
    {
     "name": "stdout",
     "output_type": "stream",
     "text": [
      "Digite um número inteiro: 17\n",
      "primo\n"
     ]
    }
   ],
   "source": [
    "num = int(input('Digite um número inteiro: '))\n",
    "\n",
    "if num == 2:\n",
    "    print(f'O número {num}, é um número primo!')\n",
    "elif (num%1 == 0 and num%num ==0) and num%2 !=0:\n",
    "    print('primo')\n",
    "else:\n",
    "    print('não')"
   ]
  },
  {
   "cell_type": "markdown",
   "id": "e3518373",
   "metadata": {},
   "source": [
    "### Código 06\n",
    "Escreva um programa que solicite ao usuário o nome de um mês e verifique se ele corresponde a um mês de verão (dezembro, janeiro ou fevereiro). Em seguida, exiba a mensagem correspondente."
   ]
  },
  {
   "cell_type": "code",
   "execution_count": 36,
   "id": "a996d20b",
   "metadata": {},
   "outputs": [
    {
     "name": "stdout",
     "output_type": "stream",
     "text": [
      "Digite o nome do mês (exemplo: jan, fev, mar...): fev\n",
      "Verão\n"
     ]
    }
   ],
   "source": [
    "mes = input('Digite o nome do mês (exemplo: jan, fev, mar...): ')\n",
    "mes = mes.lower()\n",
    "\n",
    "if mes == 'dez' or mes == 'jan' or mes =='fev':\n",
    "    print('Verão')\n",
    "else:\n",
    "    print('Mês inválido')"
   ]
  },
  {
   "cell_type": "markdown",
   "id": "03db6cfe",
   "metadata": {},
   "source": [
    "### Código 07\n",
    "Escreva um programa que solicite ao usuário um número inteiro e verifique se ele é um quadrado perfeito. Um número é considerado um quadrado perfeito quando sua raiz quadrada é um número inteiro."
   ]
  },
  {
   "cell_type": "code",
   "execution_count": 18,
   "id": "5cda2bb3",
   "metadata": {},
   "outputs": [
    {
     "name": "stdout",
     "output_type": "stream",
     "text": [
      "Digite um número inteiro: 81\n",
      "Este número é um quadrado perfeito!\n"
     ]
    }
   ],
   "source": [
    "import math\n",
    "\n",
    "num = int(input('Digite um número inteiro: '))\n",
    "\n",
    "raiz = math.sqrt(num)\n",
    "\n",
    "if raiz.is_integer() == True:\n",
    "    print('Este número é um quadrado perfeito!')\n",
    "else:\n",
    "    print('Este número não é um quadrado perfeito!')"
   ]
  },
  {
   "cell_type": "markdown",
   "id": "b80bfdd5",
   "metadata": {},
   "source": [
    "### Código 08\n",
    "Faça um Programa que leia três números e mostre o maior e o menor deles."
   ]
  },
  {
   "cell_type": "code",
   "execution_count": 23,
   "id": "0f34ec1e",
   "metadata": {},
   "outputs": [
    {
     "name": "stdout",
     "output_type": "stream",
     "text": [
      "Digite o primeiro número: 10\n",
      "Digite o segundo número: 1\n",
      "Digite o terceiro número: 5\n",
      "O maior valor é 10 e o menor valor é 1.\n"
     ]
    }
   ],
   "source": [
    "num1 = int(input('Digite o primeiro número: '))\n",
    "num2 = int(input('Digite o segundo número: '))\n",
    "num3 = int(input('Digite o terceiro número: '))\n",
    "\n",
    "if num1 > num2 and num1 > num3:\n",
    "    if num2 > num3:\n",
    "        print(f'O maior valor é {num1} e o menor valor é {num3}.')\n",
    "    else:\n",
    "        print(f'O maior valor é {num1} e o menor valor é {num2}.')\n",
    "elif num2 > num1 and num2 > num3:\n",
    "    if num1 > num3:\n",
    "        print(f'O maior valor é {num2} e o menor valor é {num3}.')\n",
    "    else:\n",
    "        print(f'O maior valor é {num2} e o menor valor é {num1}.')\n",
    "elif num3 > num1 and num3 > num2:\n",
    "    if num1 > num2:\n",
    "        print(f'O maior valor é {num3} e o menor valor é {num2}.')\n",
    "    else:\n",
    "        print(f'O maior valor é {num3} e o menor valor é {num1}.')"
   ]
  },
  {
   "cell_type": "markdown",
   "id": "171885a2",
   "metadata": {},
   "source": [
    "### Código 09\n",
    "Faça um Programa que leia 2 números e em seguida pergunte ao usuário qual operação ele deseja realizar. O resultado da operação deve ser acompanhado de uma frase que diga se o número é:\n",
    "\n",
    "·        par ou ímpar;\n",
    "\n",
    "·        positivo ou negativo;\n",
    "\n",
    "·        inteiro ou decimal."
   ]
  },
  {
   "cell_type": "code",
   "execution_count": 7,
   "id": "f5653a0c",
   "metadata": {},
   "outputs": [
    {
     "name": "stdout",
     "output_type": "stream",
     "text": [
      "Digite o primeiro número: 10\n",
      "Digite o segundo número: 10\n",
      "Qual operação você deseja realizar? \n",
      "Digite [A] Adição,[S] Subtração, [M] Multiplicação e [D] Divisão. A\n",
      "O resultado da operação é 20.0.\n",
      "Esta operação resultou em um número par.\n",
      "Este número é positivo.\n",
      "Este valor é inteiro.\n"
     ]
    }
   ],
   "source": [
    "num1 = float(input('Digite o primeiro número: '))\n",
    "num2 = float(input('Digite o segundo número: '))\n",
    "\n",
    "calc = input('Qual operação você deseja realizar? \\n' + \n",
    "             'Digite [A] Adição,[S] Subtração, [M] Multiplicação e [D] Divisão. ')\n",
    "\n",
    "calc = calc.lower()\n",
    "\n",
    "if calc == 'a': \n",
    "    result = num1 + num2\n",
    "elif calc == 's':\n",
    "    result = num1 - num2\n",
    "elif calc == 'm':\n",
    "    result = num1 * num2\n",
    "elif calc == 'd':\n",
    "    result = num1 / num2\n",
    "else:\n",
    "    print('Informação inválida!')\n",
    "    \n",
    "\n",
    "if result%2 == 0:\n",
    "    texto = 'Esta operação resultou em um número par.'\n",
    "else:\n",
    "    texto = 'Esta operação resultou em um número ímpar.'\n",
    "    \n",
    "    \n",
    "if result < 0:\n",
    "    sinal = 'Este número é negativo.'\n",
    "elif result > 0:\n",
    "    sinal = 'Este número é positivo.'\n",
    "else:\n",
    "    sinal = 'Este número é nulo.'\n",
    "    \n",
    "\n",
    "if result.is_integer() == True:\n",
    "    tipo = 'Este valor é inteiro.'\n",
    "else:\n",
    "    tipo = 'Este valor é decimal.'\n",
    "    \n",
    "\n",
    "print(f'O resultado da operação é {result}.')\n",
    "print(texto)\n",
    "print(sinal)\n",
    "print(tipo)"
   ]
  },
  {
   "cell_type": "markdown",
   "id": "6886b7a6",
   "metadata": {},
   "source": [
    "### Código 10\n",
    "\n",
    "Faça um programa para o cálculo de uma folha de pagamento, sabendo que os descontos são do Imposto de Renda, que depende do salário bruto (conforme tabela abaixo) e 3% para o Sindicato e que o FGTS corresponde a 11% do Salário Bruto, mas não é descontado (é a empresa que deposita). O Salário Líquido corresponde ao Salário Bruto menos os descontos. O programa deverá pedir ao usuário o valor da sua hora e a quantidade de horas trabalhadas no mês.\n",
    "Desconto do IR:\n",
    "\n",
    "\n",
    "·        Salário Bruto até 900 (inclusive) – isento\n",
    "\n",
    "\n",
    "·        Salário Bruto até 1500 (inclusive) - desconto de 5%\n",
    "\n",
    "\n",
    "·        Salário Bruto até 2500 (inclusive) - desconto de 10%\n",
    "\n",
    "\n",
    "·        Salário Bruto acima de 2500 - desconto de 20% "
   ]
  },
  {
   "cell_type": "code",
   "execution_count": 33,
   "id": "77d52717",
   "metadata": {},
   "outputs": [
    {
     "name": "stdout",
     "output_type": "stream",
     "text": [
      "Digite o seu salário por hora: 225\n",
      "Digite as horas trabalhadas: 2\n",
      "O salário bruto é de R$450.0.\n",
      "Com este valor, você pagará R$13.5 ao sindicato e, R$0 de imposto de renda.\n",
      "O valor depositado em sua conta do FGTS é R$49.5\n",
      "O seu salário líquido é R$ 436.5\n"
     ]
    }
   ],
   "source": [
    "valor_hora = float(input('Digite o seu salário por hora: '))\n",
    "horas = float(input('Digite as horas trabalhadas: '))\n",
    "\n",
    "salarioB = round(valor_hora * horas,2)\n",
    "\n",
    "#---Cálculo do IR\n",
    "\n",
    "if salarioB <= 900:\n",
    "    ir = 0\n",
    "elif salarioB <= 1500:\n",
    "    ir = 0.05\n",
    "elif salarioB <= 2500:\n",
    "    ir = 0.1\n",
    "else:\n",
    "    ir = 0.2\n",
    "    \n",
    "valor_ir = round(ir * salarioB)\n",
    "sindicato = 0.03\n",
    "valor_sindicato = round(sindicato * salarioB, 2)\n",
    "fgts = 0.11\n",
    "valor_fgts = round(fgts * salarioB, 2)\n",
    "\n",
    "salarioL = round(salarioB - valor_ir - valor_sindicato,2)\n",
    "\n",
    "print(f'O salário bruto é de R${salarioB}.'+ '\\n' + f'Com este valor, você pagará R${valor_sindicato}' +\n",
    "      f' ao sindicato e, R${valor_ir} de imposto de renda.' + '\\n' + f'O valor depositado em sua conta do FGTS é R${valor_fgts}' +\n",
    "      '\\n' + f'O seu salário líquido é R$ {salarioL}')"
   ]
  },
  {
   "cell_type": "code",
   "execution_count": null,
   "id": "e924cb36",
   "metadata": {},
   "outputs": [],
   "source": []
  }
 ],
 "metadata": {
  "kernelspec": {
   "display_name": "Python 3 (ipykernel)",
   "language": "python",
   "name": "python3"
  },
  "language_info": {
   "codemirror_mode": {
    "name": "ipython",
    "version": 3
   },
   "file_extension": ".py",
   "mimetype": "text/x-python",
   "name": "python",
   "nbconvert_exporter": "python",
   "pygments_lexer": "ipython3",
   "version": "3.10.9"
  }
 },
 "nbformat": 4,
 "nbformat_minor": 5
}
