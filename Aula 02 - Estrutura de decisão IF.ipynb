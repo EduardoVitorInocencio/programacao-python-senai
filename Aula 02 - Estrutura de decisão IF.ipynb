{
 "cells": [
  {
   "cell_type": "markdown",
   "id": "3c4b04bf",
   "metadata": {},
   "source": [
    "### Exercício 01 \n",
    "Crie uma variável chamada \"idade\" e atribua um valor inteiro a ela.\n",
    "Verifique se a idade é maior ou igual a 18 e imprima \"Maior de idade\" ou \"Menor de\n",
    "idade\" de acordo com a condição."
   ]
  },
  {
   "cell_type": "code",
   "execution_count": null,
   "id": "347932e2",
   "metadata": {},
   "outputs": [],
   "source": [
    "idade = input('Informe sua idade: ')\n",
    "idade = int(idade)\n",
    "\n",
    "if idade < 18:\n",
    "    print('Menor de idade')\n",
    "else:\n",
    "    print('Maior de idade')"
   ]
  },
  {
   "cell_type": "markdown",
   "id": "a13a550f",
   "metadata": {},
   "source": [
    "### Exercício 02\n",
    "Crie uma variável chamada \"número\" e atribua um valor inteiro a ela.\n",
    "Verifique se o número é positivo, negativo ou zero e imprima a mensagem\n",
    "correspondente."
   ]
  },
  {
   "cell_type": "code",
   "execution_count": null,
   "id": "03044976",
   "metadata": {},
   "outputs": [],
   "source": [
    "num = input('Digite um número inteiro: ')\n",
    "num = int(num)\n",
    "\n",
    "if  num >= 0:\n",
    "    print(\"Positivo\")\n",
    "else:\n",
    "    print('Negativo')"
   ]
  },
  {
   "cell_type": "code",
   "execution_count": null,
   "id": "62421459",
   "metadata": {},
   "outputs": [],
   "source": [
    "num = input('Digite um número inteiro: ')\n",
    "num = int(num)\n",
    "\n",
    "if num > 0:\n",
    "    print('Positivo')\n",
    "elif num < 0:\n",
    "    print('Negativo')\n",
    "else:\n",
    "    print('Nulo')"
   ]
  },
  {
   "cell_type": "markdown",
   "id": "fef2269d",
   "metadata": {},
   "source": [
    "### Exercício 03\n",
    "\n",
    "Crie duas variáveis, \"nota1\" e \"nota2\", e atribua valores numéricos a elas.\n",
    "Verifique se a média das notas é maior ou igual a 7 e imprima \"Aprovado\" ou\n",
    "\"Reprovado\" de acordo com a condição."
   ]
  },
  {
   "cell_type": "code",
   "execution_count": null,
   "id": "987b7ebb",
   "metadata": {},
   "outputs": [],
   "source": [
    "nota1 = input('Digite a primeira nota: ')\n",
    "nota1 = int(nota1)\n",
    "\n",
    "nota2 = input('Digite a segunda nota: ')\n",
    "nota2 = int(nota2)\n",
    "\n",
    "media = (nota1 + nota2)/2\n",
    "\n",
    "if media >= 7:\n",
    "    print(f'Você foi aprovado! Sua média final foi {media}, Parabéns.')\n",
    "else:\n",
    "    print(f'Você está reprovado! Sua média final foi {media}, Chore.')"
   ]
  },
  {
   "cell_type": "markdown",
   "id": "d860069c",
   "metadata": {},
   "source": [
    "### Exercício 04\n",
    "Crie uma variável chamada \"idade\" e atribua um valor inteiro a ela.\n",
    "Verifique se a idade está dentro do intervalo de 18 a 30 (inclusive) e imprima a\n",
    "mensagem \"Idade válida\" ou \"Idade inválida\" de acordo com a condição."
   ]
  },
  {
   "cell_type": "code",
   "execution_count": null,
   "id": "25f30721",
   "metadata": {},
   "outputs": [],
   "source": [
    "idade = int(input('Digite sua idade: '))\n",
    "\n",
    "if idade >= 18 and idade <= 30:\n",
    "    print('Idade válida!')\n",
    "else:\n",
    "    print('Idade inválida!')"
   ]
  },
  {
   "cell_type": "markdown",
   "id": "e5420ba2",
   "metadata": {},
   "source": [
    "### Exercício 06\n",
    "\n",
    "Crie uma variável chamada \"horario\" e atribua um valor inteiro\n",
    "representando a hora do dia (em formato 24 horas). Verifique se o horário está dentro\n",
    "do período da manhã (das 6h às 12h), da tarde (das 12h às 18h) ou da noite (das 18h\n",
    "às 23h) e imprima a mensagem correspondente."
   ]
  },
  {
   "cell_type": "code",
   "execution_count": null,
   "id": "126a0bd5",
   "metadata": {},
   "outputs": [],
   "source": [
    "horario = int(input('Que horas são? '))\n",
    "\n",
    "if horario >= 6 and horario < 12:\n",
    "    print('Bom dia! <3')\n",
    "elif horario >= 12 and horario < 18:\n",
    "    print('Boa tarde!')\n",
    "elif horario >= 18 and horario <= 23:\n",
    "    print('Boa noite!')\n",
    "else:\n",
    "    print('Horário inválido')\n",
    "    "
   ]
  },
  {
   "cell_type": "markdown",
   "id": "e9b08bba",
   "metadata": {},
   "source": [
    "### Exercício 08\n",
    "\n",
    "Crie uma variável chamada \"numero\" e atribua um valor inteiro a ela.\n",
    "Verifique se o número é múltiplo de 3 e de 5 ao mesmo tempo e imprima a mensagem\n",
    "correspondente."
   ]
  },
  {
   "cell_type": "code",
   "execution_count": null,
   "id": "d177f773",
   "metadata": {},
   "outputs": [],
   "source": [
    "numero = int(input('Digite um número inteiro.'))\n",
    "\n",
    "if (numero % 3 == 0) and (numero % 5 == 0):\n",
    "    print(f'O número {numero} é múltiplo de 3 e 5 ao mesmo tempo.')\n",
    "else:\n",
    "    print(f'O número {numero}, não é múltiplo de 3 e 5.')"
   ]
  },
  {
   "cell_type": "markdown",
   "id": "89fe9b9f",
   "metadata": {},
   "source": [
    "### Exercício 09\n",
    "\n",
    "Crie uma variável chamada \"ano\" e atribua um valor inteiro\n",
    "representando um ano. Verifique se o ano é bissexto (divisível por 4, mas não por 100,\n",
    "exceto se for divisível por 400) e imprima a mensagem correspondente."
   ]
  },
  {
   "cell_type": "code",
   "execution_count": null,
   "id": "463b6d98",
   "metadata": {},
   "outputs": [],
   "source": [
    "ano = int(input('Digite um ano: '))\n",
    "\n",
    "if (ano%4 == 0 and ano%100 !=0) or (ano%400 ==0):\n",
    "    print(f'O ano {ano} é bissexto!')\n",
    "else:\n",
    "    print(f'O ano {ano}, não é bissexto.)"
   ]
  },
  {
   "cell_type": "markdown",
   "id": "ea9ef61d",
   "metadata": {},
   "source": [
    "### Exercício 10\n",
    "\n",
    "Crie uma variável chamada \"salario\" e atribua um valor numérico a ela.\n",
    "Verifique se o salário é maior do que 1000 e menor do que 2000 ao mesmo tempo e\n",
    "imprima a mensagem correspondente."
   ]
  },
  {
   "cell_type": "code",
   "execution_count": null,
   "id": "4935d136",
   "metadata": {},
   "outputs": [],
   "source": [
    "salario = float(input('Informe um salário.'))\n",
    "\n",
    "if salario > 1000 and salario < 2000:\n",
    "    print('Salário dentro da faixa especificada.')\n",
    "else:\n",
    "    print('Salário fora da faixa.')"
   ]
  },
  {
   "cell_type": "markdown",
   "id": "6e1f3d3b",
   "metadata": {},
   "source": [
    "### Exercício 11\n",
    "\n",
    "Faça um Programa que peça dois números e imprima o maior deles."
   ]
  },
  {
   "cell_type": "code",
   "execution_count": null,
   "id": "77c74410",
   "metadata": {},
   "outputs": [],
   "source": [
    "num1 = int(input('Digite o primeiro número: '))\n",
    "num2 = int(input('Digite o segundo número: '))"
   ]
  },
  {
   "cell_type": "markdown",
   "id": "c9aeb74c",
   "metadata": {},
   "source": [
    "### Exercício 14\n",
    "Faça um Programa que verifique se uma letra digitada é vogal ou\n",
    "consoante."
   ]
  },
  {
   "cell_type": "code",
   "execution_count": 8,
   "id": "368aca45",
   "metadata": {},
   "outputs": [
    {
     "name": "stdout",
     "output_type": "stream",
     "text": [
      "Digite uma letra.U\n",
      "A letra [u] é uma vogal.\n"
     ]
    }
   ],
   "source": [
    "letra = input('Digite uma letra.')\n",
    "letra = letra.lower()\n",
    "\n",
    "if letra in ['a','e','i','o','u']:\n",
    "    print(f'A letra [{letra}] é uma vogal.')\n",
    "else:\n",
    "    print(f'A letra [{letra}] é uma consoante.')"
   ]
  },
  {
   "cell_type": "markdown",
   "id": "ae6cad07",
   "metadata": {},
   "source": [
    "### Exercício 15\n",
    "Faça um programa para a leitura de duas notas parciais de um aluno. O\n",
    "programa deve calcular a média alcançada por aluno e apresentar:\n",
    "\n",
    "• A mensagem \"Aprovado\", se a média alcançada for maior ou igual a sete;\n",
    "\n",
    "• A mensagem \"Reprovado\", se a média for menor do que sete;\n",
    "\n",
    "• A mensagem \"Aprovado com Distinção\", se a média for igual a dez."
   ]
  },
  {
   "cell_type": "code",
   "execution_count": 12,
   "id": "634d2489",
   "metadata": {},
   "outputs": [
    {
     "name": "stdout",
     "output_type": "stream",
     "text": [
      "Digite a nota do primeiro trimestre.2\n",
      "Digite a nota do segundo trimestre.5\n"
     ]
    },
    {
     "data": {
      "text/plain": [
       "3.5"
      ]
     },
     "execution_count": 12,
     "metadata": {},
     "output_type": "execute_result"
    }
   ],
   "source": [
    "import statistics as sts\n",
    "\n",
    "nota1 = float(input('Digite a nota do primeiro trimestre.'))\n",
    "nota2 = float(input('Digite a nota do segundo trimestre.'))\n",
    "\n",
    "media = sts.mean([nota1, nota2])\n",
    "\n",
    "media"
   ]
  },
  {
   "cell_type": "markdown",
   "id": "647ad5a0",
   "metadata": {},
   "source": [
    "### Exercício 16\n",
    "\n",
    "Faça um Programa que leia três números e mostre o maior deles."
   ]
  },
  {
   "cell_type": "code",
   "execution_count": null,
   "id": "ff3db253",
   "metadata": {},
   "outputs": [],
   "source": [
    "num1 = int(input('Digite o primeiro valor: '))\n",
    "num2 = int(input('Digite o segundo valor: '))\n",
    "num3 = int(input('Digite o terceiro valor: '))\n",
    "\n",
    "if (num1 > num2) and (num1 > num3): # Avaliando o num 1\n",
    "    \n",
    "    if num2 > num3:\n",
    "        print('---------------------------------')\n",
    "        print('O primeiro maior valor é: ', num1)\n",
    "        print('O segundo maior valor é: ', num2)\n",
    "        print('O terceiro maior valor é: ', num3)\n",
    "        print('---------------------------------')\n",
    "    else:\n",
    "        print('---------------------------------')\n",
    "        print('O primeiro maior valor é: ', num1)\n",
    "        print('O segundo maior valor é: ', num3)\n",
    "        print('O terceiro maior valor é: ', num2)\n",
    "        print('---------------------------------')\n",
    "        \n",
    "elif (num2 > num1) and (num2 > num3): # Avaliando o num 2\n",
    "    \n",
    "    if num1 > num3:\n",
    "        print('---------------------------------')\n",
    "        print('O primeiro maior valor é: ', num2)\n",
    "        print('O segundo maior valor é: ', num1)\n",
    "        print('O terceiro maior valor é: ', num3)\n",
    "        print('---------------------------------')\n",
    "    else:\n",
    "        print('---------------------------------')\n",
    "        print('O primeiro maior valor é: ', num2)\n",
    "        print('O segundo maior valor é: ', num3)\n",
    "        print('O terceiro maior valor é: ', num1)\n",
    "        print('---------------------------------')\n",
    "        \n",
    "elif (num3 > num1) and (num3 > num2): # Avaliando o num 3\n",
    "    \n",
    "    if num1 > num2:\n",
    "        print('---------------------------------')\n",
    "        print('O primeiro maior valor é: ', num3)\n",
    "        print('O segundo maior valor é: ', num1)\n",
    "        print('O terceiro maior valor é: ', num2)\n",
    "        print('---------------------------------')\n",
    "    else:\n",
    "        print('---------------------------------')\n",
    "        print('O primeiro maior valor é: ', num3)\n",
    "        print('O segundo maior valor é: ', num2)\n",
    "        print('O terceiro maior valor é: ', num1)\n",
    "        print('---------------------------------')\n",
    "        \n"
   ]
  },
  {
   "cell_type": "markdown",
   "id": "9c26a939",
   "metadata": {},
   "source": [
    "### Exercício 17\n",
    "Faça um Programa que leia três números e mostre o maior e o menor\n",
    "deles."
   ]
  },
  {
   "cell_type": "code",
   "execution_count": 13,
   "id": "c6975c94",
   "metadata": {},
   "outputs": [
    {
     "name": "stdout",
     "output_type": "stream",
     "text": [
      "Digite o primeiro valor: 1\n",
      "Digite o segundo valor: 2\n",
      "Digite o terceiro valor: 8\n",
      "---------------------------------\n",
      "O maior valor é:  8\n",
      "O menor valor é:  1\n",
      "---------------------------------\n"
     ]
    }
   ],
   "source": [
    "num1 = int(input('Digite o primeiro valor: '))\n",
    "num2 = int(input('Digite o segundo valor: '))\n",
    "num3 = int(input('Digite o terceiro valor: '))\n",
    "\n",
    "if (num1 > num2) and (num1 > num3): # Avaliando o num 1\n",
    "    \n",
    "    if num2 > num3:\n",
    "        print('---------------------------------')\n",
    "        print('O maior valor é: ', num1)\n",
    "        print('O menor valor é: ', num3)\n",
    "        print('---------------------------------')\n",
    "    else:\n",
    "        print('---------------------------------')\n",
    "        print('O maior valor é: ', num1)\n",
    "        print('O menor valor é: ', num2)\n",
    "        print('---------------------------------')\n",
    "        \n",
    "elif (num2 > num1) and (num2 > num3): # Avaliando o num 2\n",
    "    \n",
    "    if num1 > num3:\n",
    "        print('---------------------------------')\n",
    "        print('O maior valor é: ', num2)\n",
    "        print('O menor valor é: ', num3)\n",
    "        print('---------------------------------')\n",
    "    else:\n",
    "        print('---------------------------------')\n",
    "        print('O maior valor é: ', num2)\n",
    "        print('O menor valor é: ', num1)\n",
    "        print('---------------------------------')\n",
    "        \n",
    "elif (num3 > num1) and (num3 > num2): # Avaliando o num 3\n",
    "    \n",
    "    if num1 > num2:\n",
    "        print('---------------------------------')\n",
    "        print('O maior valor é: ', num3)\n",
    "        print('O menor valor é: ', num2)\n",
    "        print('---------------------------------')\n",
    "    else:\n",
    "        print('---------------------------------')\n",
    "        print('O maior valor é: ', num3)\n",
    "        print('O menor valor é: ', num1)\n",
    "        print('---------------------------------')\n",
    "        "
   ]
  },
  {
   "cell_type": "markdown",
   "id": "a21fbe7c",
   "metadata": {},
   "source": [
    "### Exercício 18\n",
    "Faça um programa que pergunte o preço de três produtos e informe qual\n",
    "produto você deve comprar, sabendo que a decisão é sempre pelo mais barato."
   ]
  },
  {
   "cell_type": "code",
   "execution_count": 14,
   "id": "9d9c9426",
   "metadata": {},
   "outputs": [
    {
     "name": "stdout",
     "output_type": "stream",
     "text": [
      "Digite o primeiro valor: 10\n",
      "Digite o segundo valor: 4\n",
      "Digite o terceiro valor: 7\n",
      "Compre o produto com valor de R$:  4.0\n"
     ]
    }
   ],
   "source": [
    "prod1 = float(input('Digite o primeiro valor: '))\n",
    "prod2 = float(input('Digite o segundo valor: '))\n",
    "prod3 = float(input('Digite o terceiro valor: '))\n",
    "\n",
    "if (prod1 > prod2) and (prod1 > prod3): # Avaliando o prod 1\n",
    "    \n",
    "    if prod2 > prod3:\n",
    "        print('Compre o produto com valor de R$: ', prod3)\n",
    "    else:\n",
    "\n",
    "        print('Compre o produto com valor de R$: ', prod2)\n",
    "\n",
    "        \n",
    "elif (prod2 > prod1) and (prod2 > prod3): # Avaliando o prod 2\n",
    "    \n",
    "    if prod1 > prod3:\n",
    "        print('Compre o produto com valor de R$: ', prod3)\n",
    "    else:\n",
    "        print('Compre o produto com valor de R$: ', prod1)\n",
    "        \n",
    "elif (prod3 > prod1) and (prod3 > prod2): # Avaliando o prod 3\n",
    "    \n",
    "    if prod1 > prod2:\n",
    "        print('Compre o produto com valor de R$: ', prod2)\n",
    "    else:\n",
    "        print('Compre o produto com valor de R$: ', prod1)"
   ]
  },
  {
   "cell_type": "markdown",
   "id": "d045fe98",
   "metadata": {},
   "source": [
    "### Exercício 19\n",
    "Faça um Programa que leia três números e mostre-os em ordem\n",
    "decrescente."
   ]
  },
  {
   "cell_type": "code",
   "execution_count": 15,
   "id": "b190ce39",
   "metadata": {},
   "outputs": [
    {
     "name": "stdout",
     "output_type": "stream",
     "text": [
      "Digite o primeiro valor: 1\n",
      "Digite o segundo valor: 4\n",
      "Digite o terceiro valor: 5\n",
      "---------------------------------\n",
      "O primeiro valor é:  5\n",
      "O segundo valor é:  4\n",
      "O terceiro valor é:  1\n",
      "---------------------------------\n"
     ]
    }
   ],
   "source": [
    "num1 = int(input('Digite o primeiro valor: '))\n",
    "num2 = int(input('Digite o segundo valor: '))\n",
    "num3 = int(input('Digite o terceiro valor: '))\n",
    "\n",
    "if (num1 > num2) and (num1 > num3): # Avaliando o num 1\n",
    "    \n",
    "    if num2 > num3:\n",
    "        print('---------------------------------')\n",
    "        print('O primeiro valor é: ', num1)\n",
    "        print('O segundo valor é: ', num2)\n",
    "        print('O terceiro valor é: ', num3)\n",
    "        print('---------------------------------')\n",
    "    else:\n",
    "        print('---------------------------------')\n",
    "        print('O primeiro valor é: ', num1)\n",
    "        print('O segundo valor é: ', num3)\n",
    "        print('O terceiro valor é: ', num2)\n",
    "        print('---------------------------------')\n",
    "        \n",
    "elif (num2 > num1) and (num2 > num3): # Avaliando o num 2\n",
    "    \n",
    "    if num1 > num3:\n",
    "        print('---------------------------------')\n",
    "        print('O primeiro valor é: ', num2)\n",
    "        print('O segundo valor é: ', num1)\n",
    "        print('O terceiro valor é: ', num3)\n",
    "        print('---------------------------------')\n",
    "    else:\n",
    "        print('---------------------------------')\n",
    "        print('O primeiro valor é: ', num2)\n",
    "        print('O segundo valor é: ', num3)\n",
    "        print('O terceiro valor é: ', num1)\n",
    "        print('---------------------------------')\n",
    "        \n",
    "elif (num3 > num1) and (num3 > num2): # Avaliando o num 3\n",
    "    \n",
    "    if num1 > num2:\n",
    "        print('---------------------------------')\n",
    "        print('O primeiro valor é: ', num3)\n",
    "        print('O segundo valor é: ', num1)\n",
    "        print('O terceiro valor é: ', num2)\n",
    "        print('---------------------------------')\n",
    "    else:\n",
    "        print('---------------------------------')\n",
    "        print('O primeiro valor é: ', num3)\n",
    "        print('O segundo valor é: ', num2)\n",
    "        print('O terceiro valor é: ', num1)\n",
    "        print('---------------------------------')\n",
    "        "
   ]
  },
  {
   "cell_type": "markdown",
   "id": "d07297b6",
   "metadata": {},
   "source": [
    "### Exercício 20\n",
    "Faça um Programa que pergunte em que turno você estuda. Peça para\n",
    "digitar M-matutino ou V-Vespertino ou N- Noturno. Imprima a mensagem \"Bom Dia!\",\n",
    "\"Boa Tarde!\" ou \"Boa Noite!\" ou \"Valor Inválido!\", conforme o caso."
   ]
  },
  {
   "cell_type": "code",
   "execution_count": 21,
   "id": "bb358126",
   "metadata": {},
   "outputs": [
    {
     "name": "stdout",
     "output_type": "stream",
     "text": [
      "Qual perído você estuda? [M] Matutino, [V] Vespertino, [N] Noturno. N\n",
      "Boa noite!\n"
     ]
    }
   ],
   "source": [
    "turno = input(\"Qual perído você estuda? [M] Matutino, [V] Vespertino, [N] Noturno. \")\n",
    "turno = turno.lower()\n",
    "\n",
    "if turno == 'm':\n",
    "    print('Bom dia!')\n",
    "elif turno == 'v':\n",
    "    print('Boa tarde!')\n",
    "elif turno == 'n':\n",
    "    print('Boa noite!')\n",
    "else:\n",
    "    print('Atenção! Digite uma letra válida.')"
   ]
  },
  {
   "cell_type": "markdown",
   "id": "ce3792f2",
   "metadata": {},
   "source": [
    "### Exercício 21\n",
    "As Organizações Tabajara resolveram dar um aumento de salário aos\n",
    "seus colaboradores e lhe contaram para desenvolver o programa que calculará os\n",
    "reajustes. Faça um programa que recebe o salário de um colaborador e o reajuste\n",
    "segundo o seguinte critério, baseado no salário atual:\n",
    "\n",
    "• salários até R$ 280,00 (incluindo) : aumento de 20%\n",
    "\n",
    "• salários entre R$ 280,00 e R$ 700,00 : aumento de 15%\n",
    "\n",
    "• salários entre R$ 700,00 e R$ 1500,00 : aumento de 10%\n",
    "\n",
    "• salários de R$ 1500,00 em diante : aumento de 5%\n",
    "\n",
    "Após o aumento ser realizado, informe na tela:\n",
    "\n",
    "• salário antes do reajuste;\n",
    "\n",
    "• percentual de aumento aplicado;\n",
    "\n",
    "• valor do aumento;\n",
    "\n",
    "• novo salário, após o aumento."
   ]
  },
  {
   "cell_type": "code",
   "execution_count": null,
   "id": "cee37498",
   "metadata": {},
   "outputs": [],
   "source": [
    "print('--- Cálculo de aumento salarial 2023 ---')\n",
    "\n",
    "salario = float(input('Informe o seu salário: '))\n",
    "\n",
    "print('-----------------------------------------')\n",
    "\n",
    "#-------------------------------------------------- Definindo o valor do aumento\n",
    "if salario <= 280:\n",
    "    aumento = 0.2 \n",
    "elif (salario > 280) and (salario<=700):\n",
    "    aumento = 0.15\n",
    "elif (salario >700) and (salario <= 1500):\n",
    "    aumento = 0.1\n",
    "else:\n",
    "    aumento = 0.05\n",
    "#-------------------------------------------------- Calculando Valor do aumento e novo salário   \n",
    "valor_aumento = salario * aumento\n",
    "novo_salario = salario + valor_aumento\n",
    "#-------------------------------------------------- Exibir os resultados para o usuário\n",
    "\n",
    "print('O salário atual é R$', salario)\n",
    "print('O percentual de aumento é: ', aumento * 100, '%')\n",
    "print('O valor do aumento é R$ ', valor_aumento)\n",
    "print('O seu novo salário é R$ ', novo_salario)\n",
    "    "
   ]
  },
  {
   "cell_type": "markdown",
   "id": "647fa034",
   "metadata": {},
   "source": [
    "### Exercício 22\n",
    "Faça um programa para o cálculo de uma folha de pagamento, sabendo\n",
    "que os descontos são do Imposto de Renda, que depende do salário bruto (conforme\n",
    "tabela abaixo) e 3% para o Sindicato e que o FGTS corresponde a 11% do Salário Bruto,\n",
    "mas não é descontado (é a empresa que deposita). O Salário Líquido corresponde ao\n",
    "Salário Bruto menos os descontos. O programa deverá pedir ao usuário o valor da sua\n",
    "hora e a quantidade de horas trabalhadas no mês.\n",
    "\n",
    "Desconto do IR:\n",
    "\n",
    "• Salário Bruto até 900 (inclusive) – isento\n",
    "• Salário Bruto até 1500 (inclusive) - desconto de 5%\n",
    "• Salário Bruto até 2500 (inclusive) - desconto de 10%\n",
    "• Salário Bruto acima de 2500 - desconto de 20%\n",
    "\n",
    "Imprima na tela as informações, dispostas conforme o exemplo abaixo. No exemplo o\n",
    "valor da hora é 5 e a quantidade de hora é 220."
   ]
  },
  {
   "cell_type": "code",
   "execution_count": 13,
   "id": "7b982ce2",
   "metadata": {},
   "outputs": [
    {
     "name": "stdout",
     "output_type": "stream",
     "text": [
      "Decimal\n"
     ]
    }
   ],
   "source": [
    "numero = 2.5\n",
    "\n",
    "check = isinstance(numero,float)\n",
    "\n",
    "if check == True:\n",
    "    print('Decimal')\n",
    "else:\n",
    "    print('Inteiro')"
   ]
  },
  {
   "cell_type": "code",
   "execution_count": 18,
   "id": "7d59243b",
   "metadata": {},
   "outputs": [
    {
     "name": "stdout",
     "output_type": "stream",
     "text": [
      "Digite o valor para verificar se é um número perfeito.6\n",
      "O número 6 é um número perfeito.\n"
     ]
    }
   ],
   "source": [
    "num = int(input('Digite o valor para verificar se é um número perfeito.'))\n",
    "# Este código considera apenas o número 6\n",
    "\n",
    "soma_divisores = 1\n",
    "\n",
    "# Verifica se o número é divisível por 2\n",
    "if (num % 2) == 0:\n",
    "    soma_divisores = soma_divisores + 2\n",
    "    \n",
    "# Verifica se o número é divisível por \n",
    "if (num % 3) == 0:\n",
    "    soma_divisores = soma_divisores + 3\n",
    "    \n",
    "if soma_divisores == num:\n",
    "    print(f'O número {num} é um número perfeito.')\n",
    "else:\n",
    "    print(f'O número {num} não é um número perfeito.')\n"
   ]
  }
 ],
 "metadata": {
  "kernelspec": {
   "display_name": "Python 3 (ipykernel)",
   "language": "python",
   "name": "python3"
  },
  "language_info": {
   "codemirror_mode": {
    "name": "ipython",
    "version": 3
   },
   "file_extension": ".py",
   "mimetype": "text/x-python",
   "name": "python",
   "nbconvert_exporter": "python",
   "pygments_lexer": "ipython3",
   "version": "3.9.13"
  }
 },
 "nbformat": 4,
 "nbformat_minor": 5
}
