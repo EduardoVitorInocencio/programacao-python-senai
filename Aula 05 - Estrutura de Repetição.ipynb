{
 "cells": [
  {
   "cell_type": "markdown",
   "id": "62503805",
   "metadata": {},
   "source": [
    "### Exercício 14\n",
    "\n",
    "Faça um Programa que verifique se uma letra digitada é vogal ou consoante."
   ]
  },
  {
   "cell_type": "code",
   "execution_count": 12,
   "id": "68e6ba3d",
   "metadata": {},
   "outputs": [
    {
     "name": "stdout",
     "output_type": "stream",
     "text": [
      "Digite uma letra: a\n",
      "É uma vogal\n"
     ]
    },
    {
     "ename": "SystemExit",
     "evalue": "",
     "output_type": "error",
     "traceback": [
      "An exception has occurred, use %tb to see the full traceback.\n",
      "\u001b[1;31mSystemExit\u001b[0m\n"
     ]
    }
   ],
   "source": [
    "import sys\n",
    "\n",
    "vogais = ['a','e','i','o','u']\n",
    "\n",
    "letra_User = input('Digite uma letra: ')\n",
    "\n",
    "for letra in vogais:\n",
    "    if letra_User == letra:\n",
    "        print('É uma vogal')\n",
    "        sys.exit() # interrompe o código\n",
    "        \n",
    "print('É uma consoante')"
   ]
  },
  {
   "cell_type": "markdown",
   "id": "7228bafb",
   "metadata": {},
   "source": [
    "### Exercício 06\n",
    "Faça um programa que imprima na tela os números de 1 a 20, um abaixo do outro. Depois modifique o programa para que ele mostre os números um ao lado do outro."
   ]
  },
  {
   "cell_type": "code",
   "execution_count": 21,
   "id": "2ba58cdf",
   "metadata": {},
   "outputs": [
    {
     "name": "stdout",
     "output_type": "stream",
     "text": [
      "1\n",
      "2\n",
      "3\n",
      "4\n",
      "5\n",
      "6\n",
      "7\n",
      "8\n",
      "9\n",
      "10\n",
      "11\n",
      "12\n",
      "13\n",
      "14\n",
      "15\n",
      "16\n",
      "17\n",
      "18\n",
      "19\n",
      "20\n"
     ]
    }
   ],
   "source": [
    "numeros = [1,2,3,4,5,6,7,8,9,10,11,12,13,14,15,16,17,18,19,20]\n",
    "\n",
    "for x in numeros:\n",
    "    print(x)"
   ]
  },
  {
   "cell_type": "code",
   "execution_count": 19,
   "id": "0fb99871",
   "metadata": {},
   "outputs": [
    {
     "name": "stdout",
     "output_type": "stream",
     "text": [
      "1\n",
      "2\n",
      "3\n",
      "4\n",
      "5\n",
      "6\n",
      "7\n",
      "8\n",
      "9\n",
      "10\n",
      "11\n",
      "12\n",
      "13\n",
      "14\n",
      "15\n",
      "16\n",
      "17\n",
      "18\n",
      "19\n",
      "20\n"
     ]
    }
   ],
   "source": [
    "lista = range(1,21)\n",
    "\n",
    "for x in lista:\n",
    "    print(x)"
   ]
  },
  {
   "cell_type": "code",
   "execution_count": 24,
   "id": "618aa896",
   "metadata": {},
   "outputs": [
    {
     "name": "stdout",
     "output_type": "stream",
     "text": [
      "Foram adicionados 20 elementos à lista\n",
      "[1, 2, 3, 4, 5, 6, 7, 8, 9, 10, 11, 12, 13, 14, 15, 16, 17, 18, 19, 20]\n"
     ]
    }
   ],
   "source": [
    "lista = range(1,21)\n",
    "\n",
    "numeros = [] #lista vazia\n",
    "\n",
    "for x in lista:\n",
    "    numeros.append(x)\n",
    "\n",
    "print(f'Foram adicionados {x} elementos à lista')\n",
    "print(numeros)"
   ]
  },
  {
   "cell_type": "markdown",
   "id": "fce2966b",
   "metadata": {},
   "source": [
    "### Exercício 07\n",
    "Faça um programa que leia 5 números e informe o maior número."
   ]
  },
  {
   "cell_type": "code",
   "execution_count": 29,
   "id": "93b3dbcb",
   "metadata": {},
   "outputs": [
    {
     "name": "stdout",
     "output_type": "stream",
     "text": [
      "Digite um número, please: 100\n",
      "Digite um número, please: 2\n",
      "Digite um número, please: -1\n",
      "Digite um número, please: 600\n",
      "Digite um número, please: 400\n",
      "O maior valor na lista é 600 e o menor é -1.\n"
     ]
    }
   ],
   "source": [
    "controle = range(0,5) #Lista para controle de repetição\n",
    "numeros = [] #Lista utilizada armazenar os números inseridos\n",
    "\n",
    "for x in controle:\n",
    "    num = int(input('Digite um número, please: '))\n",
    "    numeros.append(num)\n",
    "\n",
    "maior = max(numeros)\n",
    "menor = min(numeros)\n",
    "\n",
    "print(f'O maior valor na lista é {maior} e o menor é {menor}.')"
   ]
  },
  {
   "cell_type": "markdown",
   "id": "60c1a971",
   "metadata": {},
   "source": [
    "#### Exercício 12\n",
    "Desenvolva um gerador de tabuada, capaz de gerar a tabuada de qualquer número inteiro entre 1 a 10. O usuário deve informar de qual numero ele deseja ver a tabuada. A saída deve ser conforme o exemplo abaixo:"
   ]
  },
  {
   "cell_type": "code",
   "execution_count": null,
   "id": "fc02553c",
   "metadata": {},
   "outputs": [
    {
     "name": "stdout",
     "output_type": "stream",
     "text": [
      "***** TABUADA *****\n"
     ]
    }
   ],
   "source": [
    "print('***** TABUADA *****')\n",
    "    \n",
    "num = int(input('Digite um valor entre 0 e 10 para gerar a tabuada.'))\n",
    "\n",
    "multiplicadores = range(1,11)\n",
    "\n",
    "if num >= 1 and num <=10:\n",
    "    \n",
    "    print(f'TABUADA DO NÚMERO {num}')\n",
    "    for x in multiplicadores:\n",
    "        resultado = num * x\n",
    "        print(f'{num} X {x} = {resultado}')\n",
    "        \n",
    "else:\n",
    "    print('Valor fora da faixa de especificação. Digite um número entre 0 e 10.')"
   ]
  }
 ],
 "metadata": {
  "kernelspec": {
   "display_name": "Python 3 (ipykernel)",
   "language": "python",
   "name": "python3"
  },
  "language_info": {
   "codemirror_mode": {
    "name": "ipython",
    "version": 3
   },
   "file_extension": ".py",
   "mimetype": "text/x-python",
   "name": "python",
   "nbconvert_exporter": "python",
   "pygments_lexer": "ipython3",
   "version": "3.10.9"
  }
 },
 "nbformat": 4,
 "nbformat_minor": 5
}
