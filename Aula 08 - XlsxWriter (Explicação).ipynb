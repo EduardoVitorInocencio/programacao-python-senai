{
 "cells": [
  {
   "cell_type": "code",
   "execution_count": null,
   "id": "5f7860da",
   "metadata": {},
   "outputs": [],
   "source": [
    "# Criar e manipular arquivos em excel\n",
    "import xlsxwriter as xlsx\n",
    "# Gerenciar arquivos no sistema operacional\n",
    "import os \n",
    "\n",
    "#------------------------------------------ Gerar um caminho e um arquivo\n",
    "caminho = 'C:\\\\Users\\\\Aluno\\\\Documents\\\\Eduardo-Python\\\\'\n",
    "arquivo = 'Exemplo-1.xlsx'\n",
    "#------------------------------------------ Criar um documento em Excel\n",
    "workbook = xlsx.Workbook(caminho + arquivo)\n",
    "sheet = workbook.add_worksheet()\n",
    "#------------------------------------------ Escrever nas células\n",
    "sheet.write('A1','Nome')\n",
    "sheet.write('A2','Eduardo')\n",
    "sheet.write('A3','Julia')\n",
    "sheet.write('A4','José')\n",
    "sheet.write('A5','Jacqueline')\n",
    "#------------------------------------------ Fechar o arquivo e salvar\n",
    "\n",
    "workbook.close()\n",
    "\n",
    "#------------------------------------------ Abrir o documento\n",
    "\n",
    "os.startfile(caminho + arquivo)\n"
   ]
  },
  {
   "cell_type": "markdown",
   "id": "b4e1a88b",
   "metadata": {},
   "source": [
    "### Exemplo 02 - Aplicando formatação"
   ]
  },
  {
   "cell_type": "code",
   "execution_count": 19,
   "id": "86e0c0a3",
   "metadata": {},
   "outputs": [
    {
     "ename": "FileCreateError",
     "evalue": "[Errno 13] Permission denied: 'C:\\\\Users\\\\Aluno\\\\Documents\\\\Eduardo-Python\\\\Exemplo-02.xlsx'",
     "output_type": "error",
     "traceback": [
      "\u001b[1;31m---------------------------------------------------------------------------\u001b[0m",
      "\u001b[1;31mPermissionError\u001b[0m                           Traceback (most recent call last)",
      "File \u001b[1;32m~\\anaconda3\\lib\\site-packages\\xlsxwriter\\workbook.py:322\u001b[0m, in \u001b[0;36mWorkbook.close\u001b[1;34m(self)\u001b[0m\n\u001b[0;32m    321\u001b[0m \u001b[38;5;28;01mtry\u001b[39;00m:\n\u001b[1;32m--> 322\u001b[0m     \u001b[38;5;28;43mself\u001b[39;49m\u001b[38;5;241;43m.\u001b[39;49m\u001b[43m_store_workbook\u001b[49m\u001b[43m(\u001b[49m\u001b[43m)\u001b[49m\n\u001b[0;32m    323\u001b[0m \u001b[38;5;28;01mexcept\u001b[39;00m \u001b[38;5;167;01mIOError\u001b[39;00m \u001b[38;5;28;01mas\u001b[39;00m e:\n",
      "File \u001b[1;32m~\\anaconda3\\lib\\site-packages\\xlsxwriter\\workbook.py:667\u001b[0m, in \u001b[0;36mWorkbook._store_workbook\u001b[1;34m(self)\u001b[0m\n\u001b[0;32m    666\u001b[0m \u001b[38;5;28;01mexcept\u001b[39;00m \u001b[38;5;167;01mIOError\u001b[39;00m \u001b[38;5;28;01mas\u001b[39;00m e:\n\u001b[1;32m--> 667\u001b[0m     \u001b[38;5;28;01mraise\u001b[39;00m e\n\u001b[0;32m    669\u001b[0m \u001b[38;5;66;03m# Assemble worksheets into a workbook.\u001b[39;00m\n",
      "File \u001b[1;32m~\\anaconda3\\lib\\site-packages\\xlsxwriter\\workbook.py:660\u001b[0m, in \u001b[0;36mWorkbook._store_workbook\u001b[1;34m(self)\u001b[0m\n\u001b[0;32m    659\u001b[0m \u001b[38;5;28;01mtry\u001b[39;00m:\n\u001b[1;32m--> 660\u001b[0m     xlsx_file \u001b[38;5;241m=\u001b[39m \u001b[43mZipFile\u001b[49m\u001b[43m(\u001b[49m\n\u001b[0;32m    661\u001b[0m \u001b[43m        \u001b[49m\u001b[38;5;28;43mself\u001b[39;49m\u001b[38;5;241;43m.\u001b[39;49m\u001b[43mfilename\u001b[49m\u001b[43m,\u001b[49m\n\u001b[0;32m    662\u001b[0m \u001b[43m        \u001b[49m\u001b[38;5;124;43m\"\u001b[39;49m\u001b[38;5;124;43mw\u001b[39;49m\u001b[38;5;124;43m\"\u001b[39;49m\u001b[43m,\u001b[49m\n\u001b[0;32m    663\u001b[0m \u001b[43m        \u001b[49m\u001b[43mcompression\u001b[49m\u001b[38;5;241;43m=\u001b[39;49m\u001b[43mZIP_DEFLATED\u001b[49m\u001b[43m,\u001b[49m\n\u001b[0;32m    664\u001b[0m \u001b[43m        \u001b[49m\u001b[43mallowZip64\u001b[49m\u001b[38;5;241;43m=\u001b[39;49m\u001b[38;5;28;43mself\u001b[39;49m\u001b[38;5;241;43m.\u001b[39;49m\u001b[43mallow_zip64\u001b[49m\u001b[43m,\u001b[49m\n\u001b[0;32m    665\u001b[0m \u001b[43m    \u001b[49m\u001b[43m)\u001b[49m\n\u001b[0;32m    666\u001b[0m \u001b[38;5;28;01mexcept\u001b[39;00m \u001b[38;5;167;01mIOError\u001b[39;00m \u001b[38;5;28;01mas\u001b[39;00m e:\n",
      "File \u001b[1;32m~\\anaconda3\\lib\\zipfile.py:1249\u001b[0m, in \u001b[0;36mZipFile.__init__\u001b[1;34m(self, file, mode, compression, allowZip64, compresslevel, strict_timestamps)\u001b[0m\n\u001b[0;32m   1248\u001b[0m \u001b[38;5;28;01mtry\u001b[39;00m:\n\u001b[1;32m-> 1249\u001b[0m     \u001b[38;5;28mself\u001b[39m\u001b[38;5;241m.\u001b[39mfp \u001b[38;5;241m=\u001b[39m \u001b[43mio\u001b[49m\u001b[38;5;241;43m.\u001b[39;49m\u001b[43mopen\u001b[49m\u001b[43m(\u001b[49m\u001b[43mfile\u001b[49m\u001b[43m,\u001b[49m\u001b[43m \u001b[49m\u001b[43mfilemode\u001b[49m\u001b[43m)\u001b[49m\n\u001b[0;32m   1250\u001b[0m \u001b[38;5;28;01mexcept\u001b[39;00m \u001b[38;5;167;01mOSError\u001b[39;00m:\n",
      "\u001b[1;31mPermissionError\u001b[0m: [Errno 13] Permission denied: 'C:\\\\Users\\\\Aluno\\\\Documents\\\\Eduardo-Python\\\\Exemplo-02.xlsx'",
      "\nDuring handling of the above exception, another exception occurred:\n",
      "\u001b[1;31mFileCreateError\u001b[0m                           Traceback (most recent call last)",
      "Cell \u001b[1;32mIn[19], line 31\u001b[0m\n\u001b[0;32m     29\u001b[0m sheetDados\u001b[38;5;241m.\u001b[39mwrite(\u001b[38;5;124m'\u001b[39m\u001b[38;5;124mA5\u001b[39m\u001b[38;5;124m'\u001b[39m,\u001b[38;5;241m20\u001b[39m,corFundo)\n\u001b[0;32m     30\u001b[0m \u001b[38;5;66;03m#------------------------------------------- Fechar o documento e salvar\u001b[39;00m\n\u001b[1;32m---> 31\u001b[0m \u001b[43mworkbook\u001b[49m\u001b[38;5;241;43m.\u001b[39;49m\u001b[43mclose\u001b[49m\u001b[43m(\u001b[49m\u001b[43m)\u001b[49m\n\u001b[0;32m     32\u001b[0m \u001b[38;5;66;03m#------------------------------------------- Abrir o documento\u001b[39;00m\n\u001b[0;32m     33\u001b[0m os\u001b[38;5;241m.\u001b[39mstartfile(caminho \u001b[38;5;241m+\u001b[39m arquivo)\n",
      "File \u001b[1;32m~\\anaconda3\\lib\\site-packages\\xlsxwriter\\workbook.py:324\u001b[0m, in \u001b[0;36mWorkbook.close\u001b[1;34m(self)\u001b[0m\n\u001b[0;32m    322\u001b[0m     \u001b[38;5;28mself\u001b[39m\u001b[38;5;241m.\u001b[39m_store_workbook()\n\u001b[0;32m    323\u001b[0m \u001b[38;5;28;01mexcept\u001b[39;00m \u001b[38;5;167;01mIOError\u001b[39;00m \u001b[38;5;28;01mas\u001b[39;00m e:\n\u001b[1;32m--> 324\u001b[0m     \u001b[38;5;28;01mraise\u001b[39;00m FileCreateError(e)\n\u001b[0;32m    325\u001b[0m \u001b[38;5;28;01mexcept\u001b[39;00m LargeZipFile:\n\u001b[0;32m    326\u001b[0m     \u001b[38;5;28;01mraise\u001b[39;00m FileSizeError(\n\u001b[0;32m    327\u001b[0m         \u001b[38;5;124m\"\u001b[39m\u001b[38;5;124mFilesize would require ZIP64 extensions. \u001b[39m\u001b[38;5;124m\"\u001b[39m\n\u001b[0;32m    328\u001b[0m         \u001b[38;5;124m\"\u001b[39m\u001b[38;5;124mUse workbook.use_zip64().\u001b[39m\u001b[38;5;124m\"\u001b[39m\n\u001b[0;32m    329\u001b[0m     )\n",
      "\u001b[1;31mFileCreateError\u001b[0m: [Errno 13] Permission denied: 'C:\\\\Users\\\\Aluno\\\\Documents\\\\Eduardo-Python\\\\Exemplo-02.xlsx'"
     ]
    }
   ],
   "source": [
    "import xlsxwriter as xlsx\n",
    "import os\n",
    "#--------------------------------------- Caminho e arquivo\n",
    "caminho = 'C:\\\\Users\\\\Aluno\\\\Documents\\\\Eduardo-Python\\\\'\n",
    "arquivo = 'Exemplo-02.xlsx'\n",
    "#---------------------------------------- Criar um arquivo e uma aba\n",
    "workbook = xlsx.Workbook(caminho + arquivo)\n",
    "sheetDados = workbook.add_worksheet('Dados')\n",
    "#----------------------------------------- Modificando a cor de fundo\n",
    "corFonte = workbook.add_format()\n",
    "corFonte.set_font_color('blue')\n",
    "\n",
    "\n",
    "#Cor de fundo\n",
    "corFundo = workbook.add_format({\n",
    "                                'fg_color':'#F5AC89',\n",
    "                                'font_color':'green',\n",
    "                                'bold': True,\n",
    "                                'italic': True,\n",
    "                                'border': True,\n",
    "                                'num_format': 'R$ #,##0'\n",
    "                                })\n",
    "\n",
    "#------------------------------------------ Escrever nas células\n",
    "sheetDados.write('A1','Nome',corFundo)\n",
    "sheetDados.write('A2','Eduardo',corFonte)\n",
    "sheetDados.write('A3','Julia',corFundo)\n",
    "sheetDados.write('A4','José',corFonte)\n",
    "sheetDados.write('A5',20,corFundo)\n",
    "#------------------------------------------- Fechar o documento e salvar\n",
    "workbook.close()\n",
    "#------------------------------------------- Abrir o documento\n",
    "os.startfile(caminho + arquivo)"
   ]
  },
  {
   "cell_type": "code",
   "execution_count": null,
   "id": "2d85c499",
   "metadata": {},
   "outputs": [],
   "source": []
  }
 ],
 "metadata": {
  "kernelspec": {
   "display_name": "Python 3 (ipykernel)",
   "language": "python",
   "name": "python3"
  },
  "language_info": {
   "codemirror_mode": {
    "name": "ipython",
    "version": 3
   },
   "file_extension": ".py",
   "mimetype": "text/x-python",
   "name": "python",
   "nbconvert_exporter": "python",
   "pygments_lexer": "ipython3",
   "version": "3.10.9"
  }
 },
 "nbformat": 4,
 "nbformat_minor": 5
}
